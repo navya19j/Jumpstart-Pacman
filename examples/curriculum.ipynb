{
 "cells": [
  {
   "cell_type": "code",
   "execution_count": 36,
   "metadata": {},
   "outputs": [],
   "source": [
    "import numpy as np\n",
    "\n",
    "max_horizon = 250\n",
    "n = 10\n",
    "horizons=np.arange(max_horizon, -1, -max_horizon // n,)"
   ]
  },
  {
   "cell_type": "code",
   "execution_count": 37,
   "metadata": {},
   "outputs": [],
   "source": [
    "import gymnasium as gym"
   ]
  },
  {
   "cell_type": "code",
   "execution_count": 44,
   "metadata": {},
   "outputs": [],
   "source": [
    "env = gym.make(\"ALE/MsPacman-v5\")"
   ]
  },
  {
   "cell_type": "code",
   "execution_count": 93,
   "metadata": {},
   "outputs": [
    {
     "ename": "",
     "evalue": "",
     "output_type": "error",
     "traceback": [
      "\u001b[1;31mThe Kernel crashed while executing code in the current cell or a previous cell. \n",
      "\u001b[1;31mPlease review the code in the cell(s) to identify a possible cause of the failure. \n",
      "\u001b[1;31mClick <a href='https://aka.ms/vscodeJupyterKernelCrash'>here</a> for more info. \n",
      "\u001b[1;31mView Jupyter <a href='command:jupyter.viewOutput'>log</a> for further details."
     ]
    }
   ],
   "source": [
    "env = gym.make('ALE/MsPacman-v5', render_mode='human')"
   ]
  },
  {
   "cell_type": "code",
   "execution_count": 55,
   "metadata": {},
   "outputs": [
    {
     "name": "stdout",
     "output_type": "stream",
     "text": [
      "Wrapping the env in a VecTransposeImage.\n"
     ]
    }
   ],
   "source": [
    "# Create and wrap the environment\n",
    "env = gym.make('ALE/MsPacman-v5-ram')  # Replace with your specific Pac-Man environment\n",
    "env_name = EnvironmentName(\"ALE/MsPacman-v5\")\n",
    "env_kwargs = {}\n",
    "normalize = False\n",
    "seed = 0\n",
    "frame_stack = 1\n",
    "vec_env_type = \"dummy\"\n",
    "vec_env_class = {\"dummy\": DummyVecEnv, \"subproc\": SubprocVecEnv}[vec_env_type]\n",
    "\n",
    "spec = gym.spec(env_name.gym_id)\n",
    "\n",
    "def make_env(**kwargs) -> gym.Env:\n",
    "    return spec.make(**kwargs)\n",
    "\n",
    "# Make the environment\n",
    "env = make_atari_env(\n",
    "    make_env,\n",
    "    n_envs=8,\n",
    "    seed=seed,\n",
    "    vec_env_cls=vec_env_class,\n",
    "    vec_env_kwargs=env_kwargs,\n",
    ")\n",
    "if frame_stack:\n",
    "    env = VecFrameStack(env, n_stack=frame_stack)\n",
    "\n",
    "if not is_vecenv_wrapped(env, VecTransposeImage):\n",
    "    wrap_with_vectranspose = False\n",
    "    if isinstance(env.observation_space, spaces.Dict):\n",
    "        # If even one of the keys is an image-space in need of transpose, apply transpose\n",
    "        # If the image spaces are not consistent (for instance, one is channel first,\n",
    "        # the other channel last); VecTransposeImage will throw an error\n",
    "        for space in env.observation_space.spaces.values():\n",
    "            wrap_with_vectranspose = wrap_with_vectranspose or (\n",
    "                is_image_space(space) and not is_image_space_channels_first(space)  # type: ignore[arg-type]\n",
    "            )\n",
    "    else:\n",
    "        wrap_with_vectranspose = is_image_space(env.observation_space) and not is_image_space_channels_first(\n",
    "            env.observation_space  # type: ignore[arg-type]\n",
    "        )\n",
    "\n",
    "    if wrap_with_vectranspose:\n",
    "        print(\"Wrapping the env in a VecTransposeImage.\")\n",
    "        env = VecTransposeImage(env)"
   ]
  },
  {
   "cell_type": "code",
   "execution_count": 89,
   "metadata": {},
   "outputs": [
    {
     "data": {
      "text/plain": [
       "odict_keys(['online.0.weight', 'online.0.bias', 'online.2.weight', 'online.2.bias', 'online.4.weight', 'online.4.bias', 'target.0.weight', 'target.0.bias', 'target.2.weight', 'target.2.bias', 'target.4.weight', 'target.4.bias'])"
      ]
     },
     "execution_count": 89,
     "metadata": {},
     "output_type": "execute_result"
    }
   ],
   "source": [
    "import torch\n",
    "file = torch.load(\"/Users/navyajain/Jumpstart-Pacman/expert5.chkpt\")\n",
    "\n",
    "file['model'].keys()"
   ]
  },
  {
   "cell_type": "code",
   "execution_count": 91,
   "metadata": {},
   "outputs": [
    {
     "name": "stdout",
     "output_type": "stream",
     "text": [
      "Using cpu device\n"
     ]
    },
    {
     "name": "stderr",
     "output_type": "stream",
     "text": [
      "/Users/navyajain/miniconda3/envs/rl_env/lib/python3.10/site-packages/stable_baselines3/common/buffers.py:241: UserWarning: This system does not have apparently enough memory to store the complete replay buffer 14.13GB > 1.51GB\n",
      "  warnings.warn(\n"
     ]
    }
   ],
   "source": [
    "from stable_baselines3 import DQN\n",
    "model = DQN(\"CnnPolicy\", env, verbose=1)"
   ]
  },
  {
   "cell_type": "code",
   "execution_count": 92,
   "metadata": {},
   "outputs": [
    {
     "data": {
      "text/plain": [
       "CnnPolicy(\n",
       "  (q_net): QNetwork(\n",
       "    (features_extractor): NatureCNN(\n",
       "      (cnn): Sequential(\n",
       "        (0): Conv2d(1, 32, kernel_size=(8, 8), stride=(4, 4))\n",
       "        (1): ReLU()\n",
       "        (2): Conv2d(32, 64, kernel_size=(4, 4), stride=(2, 2))\n",
       "        (3): ReLU()\n",
       "        (4): Conv2d(64, 64, kernel_size=(3, 3), stride=(1, 1))\n",
       "        (5): ReLU()\n",
       "        (6): Flatten(start_dim=1, end_dim=-1)\n",
       "      )\n",
       "      (linear): Sequential(\n",
       "        (0): Linear(in_features=3136, out_features=512, bias=True)\n",
       "        (1): ReLU()\n",
       "      )\n",
       "    )\n",
       "    (q_net): Sequential(\n",
       "      (0): Linear(in_features=512, out_features=9, bias=True)\n",
       "    )\n",
       "  )\n",
       "  (q_net_target): QNetwork(\n",
       "    (features_extractor): NatureCNN(\n",
       "      (cnn): Sequential(\n",
       "        (0): Conv2d(1, 32, kernel_size=(8, 8), stride=(4, 4))\n",
       "        (1): ReLU()\n",
       "        (2): Conv2d(32, 64, kernel_size=(4, 4), stride=(2, 2))\n",
       "        (3): ReLU()\n",
       "        (4): Conv2d(64, 64, kernel_size=(3, 3), stride=(1, 1))\n",
       "        (5): ReLU()\n",
       "        (6): Flatten(start_dim=1, end_dim=-1)\n",
       "      )\n",
       "      (linear): Sequential(\n",
       "        (0): Linear(in_features=3136, out_features=512, bias=True)\n",
       "        (1): ReLU()\n",
       "      )\n",
       "    )\n",
       "    (q_net): Sequential(\n",
       "      (0): Linear(in_features=512, out_features=9, bias=True)\n",
       "    )\n",
       "  )\n",
       ")"
      ]
     },
     "execution_count": 92,
     "metadata": {},
     "output_type": "execute_result"
    }
   ],
   "source": [
    "model.policy"
   ]
  },
  {
   "cell_type": "code",
   "execution_count": 83,
   "metadata": {},
   "outputs": [
    {
     "data": {
      "text/plain": [
       "odict_keys(['online.0.weight', 'online.0.bias', 'online.2.weight', 'online.2.bias', 'online.4.weight', 'online.4.bias', 'target.0.weight', 'target.0.bias', 'target.2.weight', 'target.2.bias', 'target.4.weight', 'target.4.bias'])"
      ]
     },
     "execution_count": 83,
     "metadata": {},
     "output_type": "execute_result"
    }
   ],
   "source": [
    "file[\"model\"].keys()"
   ]
  },
  {
   "cell_type": "code",
   "execution_count": 72,
   "metadata": {},
   "outputs": [
    {
     "name": "stdout",
     "output_type": "stream",
     "text": [
      "Wrapping the env in a VecTransposeImage.\n",
      "Using cpu device\n"
     ]
    },
    {
     "name": "stderr",
     "output_type": "stream",
     "text": [
      "/Users/navyajain/miniconda3/envs/rl_env/lib/python3.10/site-packages/stable_baselines3/common/policies.py:486: UserWarning: As shared layers in the mlp_extractor are removed since SB3 v1.8.0, you should now pass directly a dictionary and not a list (net_arch=dict(pi=..., vf=...) instead of net_arch=[dict(pi=..., vf=...)])\n",
      "  warnings.warn(\n"
     ]
    },
    {
     "data": {
      "text/html": [
       "<pre style=\"white-space:pre;overflow-x:auto;line-height:normal;font-family:Menlo,'DejaVu Sans Mono',consolas,'Courier New',monospace\">/Users/navyajain/miniconda3/envs/rl_env/lib/python3.10/site-packages/rich/live.py:231: UserWarning: install \n",
       "\"ipywidgets\" for Jupyter support\n",
       "  warnings.warn('install \"ipywidgets\" for Jupyter support')\n",
       "</pre>\n"
      ],
      "text/plain": [
       "/Users/navyajain/miniconda3/envs/rl_env/lib/python3.10/site-packages/rich/live.py:231: UserWarning: install \n",
       "\"ipywidgets\" for Jupyter support\n",
       "  warnings.warn('install \"ipywidgets\" for Jupyter support')\n"
      ]
     },
     "metadata": {},
     "output_type": "display_data"
    },
    {
     "data": {
      "text/html": [
       "<pre style=\"white-space:pre;overflow-x:auto;line-height:normal;font-family:Menlo,'DejaVu Sans Mono',consolas,'Courier New',monospace\"></pre>\n"
      ],
      "text/plain": []
     },
     "metadata": {},
     "output_type": "display_data"
    },
    {
     "data": {
      "text/html": [
       "<pre style=\"white-space:pre;overflow-x:auto;line-height:normal;font-family:Menlo,'DejaVu Sans Mono',consolas,'Courier New',monospace\">\n",
       "</pre>\n"
      ],
      "text/plain": [
       "\n"
      ]
     },
     "metadata": {},
     "output_type": "display_data"
    },
    {
     "name": "stdout",
     "output_type": "stream",
     "text": [
      "(8, 1, 84, 84)\n"
     ]
    },
    {
     "data": {
      "image/png": "[encoded data removed]",
      "text/plain": [
       "<Figure size 640x480 with 1 Axes>"
      ]
     },
     "metadata": {},
     "output_type": "display_data"
    },
    {
     "ename": "ValueError",
     "evalue": "The truth value of an array with more than one element is ambiguous. Use a.any() or a.all()",
     "output_type": "error",
     "traceback": [
      "\u001b[0;31m---------------------------------------------------------------------------\u001b[0m",
      "\u001b[0;31mValueError\u001b[0m                                Traceback (most recent call last)",
      "Cell \u001b[0;32mIn[72], line 195\u001b[0m\n\u001b[1;32m    186\u001b[0m model\u001b[38;5;241m.\u001b[39mlearn(total_timesteps\u001b[38;5;241m=\u001b[39m\u001b[38;5;241m10\u001b[39m,\n\u001b[1;32m    187\u001b[0m             log_interval\u001b[38;5;241m=\u001b[39m\u001b[38;5;241m10\u001b[39m,\n\u001b[1;32m    188\u001b[0m             progress_bar\u001b[38;5;241m=\u001b[39m\u001b[38;5;28;01mTrue\u001b[39;00m,\n\u001b[0;32m   (...)\u001b[0m\n\u001b[1;32m    191\u001b[0m                 n_eval_episodes\u001b[38;5;241m=\u001b[39m\u001b[38;5;241m10\u001b[39m, \n\u001b[1;32m    192\u001b[0m                 best_model_save_path\u001b[38;5;241m=\u001b[39m\u001b[38;5;124m\"\u001b[39m\u001b[38;5;124ma2c-pacman\u001b[39m\u001b[38;5;124m\"\u001b[39m))\n\u001b[1;32m    194\u001b[0m \u001b[38;5;66;03m# test the agent for mean reward\u001b[39;00m\n\u001b[0;32m--> 195\u001b[0m mean_reward, std_reward \u001b[38;5;241m=\u001b[39m \u001b[43mevaluate_policy\u001b[49m\u001b[43m(\u001b[49m\u001b[43mmodel\u001b[49m\u001b[43m,\u001b[49m\u001b[43m \u001b[49m\u001b[43menv\u001b[49m\u001b[43m,\u001b[49m\u001b[43m \u001b[49m\u001b[43mn_eval_episodes\u001b[49m\u001b[38;5;241;43m=\u001b[39;49m\u001b[38;5;241;43m1\u001b[39;49m\u001b[43m)\u001b[49m\n\u001b[1;32m    197\u001b[0m \u001b[38;5;66;03m# # Save the model\u001b[39;00m\n\u001b[1;32m    198\u001b[0m \u001b[38;5;66;03m# model.save(\"a2c-pacman\")\u001b[39;00m\n\u001b[1;32m    199\u001b[0m \n\u001b[1;32m    200\u001b[0m \u001b[38;5;66;03m# # Load the model with the custom policy\u001b[39;00m\n\u001b[1;32m    201\u001b[0m \u001b[38;5;66;03m# loaded_model = A2C.load(\"a2c-pacman\", policy=ScriptedPacManPolicy)\u001b[39;00m\n",
      "File \u001b[0;32m~/miniconda3/envs/rl_env/lib/python3.10/site-packages/stable_baselines3/common/evaluation.py:88\u001b[0m, in \u001b[0;36mevaluate_policy\u001b[0;34m(model, env, n_eval_episodes, deterministic, render, callback, reward_threshold, return_episode_rewards, warn)\u001b[0m\n\u001b[1;32m     86\u001b[0m episode_starts \u001b[38;5;241m=\u001b[39m np\u001b[38;5;241m.\u001b[39mones((env\u001b[38;5;241m.\u001b[39mnum_envs,), dtype\u001b[38;5;241m=\u001b[39m\u001b[38;5;28mbool\u001b[39m)\n\u001b[1;32m     87\u001b[0m \u001b[38;5;28;01mwhile\u001b[39;00m (episode_counts \u001b[38;5;241m<\u001b[39m episode_count_targets)\u001b[38;5;241m.\u001b[39many():\n\u001b[0;32m---> 88\u001b[0m     actions, states \u001b[38;5;241m=\u001b[39m \u001b[43mmodel\u001b[49m\u001b[38;5;241;43m.\u001b[39;49m\u001b[43mpredict\u001b[49m\u001b[43m(\u001b[49m\n\u001b[1;32m     89\u001b[0m \u001b[43m        \u001b[49m\u001b[43mobservations\u001b[49m\u001b[43m,\u001b[49m\u001b[43m  \u001b[49m\u001b[38;5;66;43;03m# type: ignore[arg-type]\u001b[39;49;00m\n\u001b[1;32m     90\u001b[0m \u001b[43m        \u001b[49m\u001b[43mstate\u001b[49m\u001b[38;5;241;43m=\u001b[39;49m\u001b[43mstates\u001b[49m\u001b[43m,\u001b[49m\n\u001b[1;32m     91\u001b[0m \u001b[43m        \u001b[49m\u001b[43mepisode_start\u001b[49m\u001b[38;5;241;43m=\u001b[39;49m\u001b[43mepisode_starts\u001b[49m\u001b[43m,\u001b[49m\n\u001b[1;32m     92\u001b[0m \u001b[43m        \u001b[49m\u001b[43mdeterministic\u001b[49m\u001b[38;5;241;43m=\u001b[39;49m\u001b[43mdeterministic\u001b[49m\u001b[43m,\u001b[49m\n\u001b[1;32m     93\u001b[0m \u001b[43m    \u001b[49m\u001b[43m)\u001b[49m\n\u001b[1;32m     94\u001b[0m     new_observations, rewards, dones, infos \u001b[38;5;241m=\u001b[39m env\u001b[38;5;241m.\u001b[39mstep(actions)\n\u001b[1;32m     95\u001b[0m     current_rewards \u001b[38;5;241m+\u001b[39m\u001b[38;5;241m=\u001b[39m rewards\n",
      "File \u001b[0;32m~/miniconda3/envs/rl_env/lib/python3.10/site-packages/stable_baselines3/common/base_class.py:556\u001b[0m, in \u001b[0;36mBaseAlgorithm.predict\u001b[0;34m(self, observation, state, episode_start, deterministic)\u001b[0m\n\u001b[1;32m    536\u001b[0m \u001b[38;5;28;01mdef\u001b[39;00m \u001b[38;5;21mpredict\u001b[39m(\n\u001b[1;32m    537\u001b[0m     \u001b[38;5;28mself\u001b[39m,\n\u001b[1;32m    538\u001b[0m     observation: Union[np\u001b[38;5;241m.\u001b[39mndarray, Dict[\u001b[38;5;28mstr\u001b[39m, np\u001b[38;5;241m.\u001b[39mndarray]],\n\u001b[0;32m   (...)\u001b[0m\n\u001b[1;32m    541\u001b[0m     deterministic: \u001b[38;5;28mbool\u001b[39m \u001b[38;5;241m=\u001b[39m \u001b[38;5;28;01mFalse\u001b[39;00m,\n\u001b[1;32m    542\u001b[0m ) \u001b[38;5;241m-\u001b[39m\u001b[38;5;241m>\u001b[39m Tuple[np\u001b[38;5;241m.\u001b[39mndarray, Optional[Tuple[np\u001b[38;5;241m.\u001b[39mndarray, \u001b[38;5;241m.\u001b[39m\u001b[38;5;241m.\u001b[39m\u001b[38;5;241m.\u001b[39m]]]:\n\u001b[1;32m    543\u001b[0m \u001b[38;5;250m    \u001b[39m\u001b[38;5;124;03m\"\"\"\u001b[39;00m\n\u001b[1;32m    544\u001b[0m \u001b[38;5;124;03m    Get the policy action from an observation (and optional hidden state).\u001b[39;00m\n\u001b[1;32m    545\u001b[0m \u001b[38;5;124;03m    Includes sugar-coating to handle different observations (e.g. normalizing images).\u001b[39;00m\n\u001b[0;32m   (...)\u001b[0m\n\u001b[1;32m    554\u001b[0m \u001b[38;5;124;03m        (used in recurrent policies)\u001b[39;00m\n\u001b[1;32m    555\u001b[0m \u001b[38;5;124;03m    \"\"\"\u001b[39;00m\n\u001b[0;32m--> 556\u001b[0m     \u001b[38;5;28;01mreturn\u001b[39;00m \u001b[38;5;28;43mself\u001b[39;49m\u001b[38;5;241;43m.\u001b[39;49m\u001b[43mpolicy\u001b[49m\u001b[38;5;241;43m.\u001b[39;49m\u001b[43mpredict\u001b[49m\u001b[43m(\u001b[49m\u001b[43mobservation\u001b[49m\u001b[43m,\u001b[49m\u001b[43m \u001b[49m\u001b[43mstate\u001b[49m\u001b[43m,\u001b[49m\u001b[43m \u001b[49m\u001b[43mepisode_start\u001b[49m\u001b[43m,\u001b[49m\u001b[43m \u001b[49m\u001b[43mdeterministic\u001b[49m\u001b[43m)\u001b[49m\n",
      "Cell \u001b[0;32mIn[72], line 85\u001b[0m, in \u001b[0;36mScriptedPacManPolicy.predict\u001b[0;34m(self, observation, state, episode_start, deterministic)\u001b[0m\n\u001b[1;32m     83\u001b[0m distance_to_ghost \u001b[38;5;241m=\u001b[39m \u001b[38;5;28mabs\u001b[39m(agent_x \u001b[38;5;241m-\u001b[39m ghost_x) \u001b[38;5;241m+\u001b[39m \u001b[38;5;28mabs\u001b[39m(agent_y \u001b[38;5;241m-\u001b[39m ghost_y)\n\u001b[1;32m     84\u001b[0m \u001b[38;5;66;03m# Remove unsafe actions\u001b[39;00m\n\u001b[0;32m---> 85\u001b[0m \u001b[38;5;28;01mif\u001b[39;00m distance_to_ghost \u001b[38;5;241m<\u001b[39m\u001b[38;5;241m=\u001b[39m \u001b[38;5;241m1\u001b[39m:  \u001b[38;5;66;03m# Adjust threshold as needed\u001b[39;00m\n\u001b[1;32m     86\u001b[0m     \u001b[38;5;28;01mif\u001b[39;00m agent_x \u001b[38;5;241m==\u001b[39m ghost_x:\n\u001b[1;32m     87\u001b[0m         \u001b[38;5;28;01mif\u001b[39;00m ghost_y \u001b[38;5;241m>\u001b[39m agent_y:\n",
      "\u001b[0;31mValueError\u001b[0m: The truth value of an array with more than one element is ambiguous. Use a.any() or a.all()"
     ]
    }
   ],
   "source": [
    "import gymnasium as gym\n",
    "import numpy as np\n",
    "from stable_baselines3.common.policies import ActorCriticPolicy\n",
    "from stable_baselines3.common.vec_env import DummyVecEnv\n",
    "from stable_baselines3 import A2C\n",
    "from typing import Tuple, Any, Optional\n",
    "from stable_baselines3.common.callbacks import EvalCallback\n",
    "from stable_baselines3.common.evaluation import evaluate_policy\n",
    "from stable_baselines3.common.env_util import make_atari_env, make_vec_env\n",
    "from stable_baselines3.common.vec_env import (\n",
    "    DummyVecEnv,\n",
    "    SubprocVecEnv,\n",
    "    VecEnv,\n",
    "    VecFrameStack,\n",
    "    VecNormalize,\n",
    "    VecTransposeImage,\n",
    "    is_vecenv_wrapped,\n",
    ")\n",
    "from huggingface_sb3 import EnvironmentName\n",
    "from collections import OrderedDict\n",
    "from stable_baselines3.common.preprocessing import is_image_space, is_image_space_channels_first\n",
    "from gymnasium import spaces\n",
    "import matplotlib.pyplot as plt\n",
    "\n",
    "class ScriptedPacManPolicy(ActorCriticPolicy):\n",
    "    def __init__(self, observation_space: gym.spaces.Space, action_space: gym.spaces.Space, *args, **kwargs):\n",
    "        # Initialize the base policy\n",
    "        super(ScriptedPacManPolicy, self).__init__(observation_space, action_space, *args, **kwargs,\n",
    "                                                   net_arch=[dict(pi=[64, 64], vf=[64, 64])])\n",
    "\n",
    "    def predict(self, observation: np.ndarray, state=None, episode_start=False, deterministic=False) -> Tuple[np.ndarray, Any]:\n",
    "        \"\"\"\n",
    "        Predict the action for the given observation using a scripted policy.\n",
    "\n",
    "        Parameters:\n",
    "        - observation: The current state observation from the environment.\n",
    "        - state: Optional state information (if any).\n",
    "        - episode_start: Whether the current step is the beginning of a new episode.\n",
    "        - deterministic: Whether the prediction should be deterministic.\n",
    "\n",
    "        Returns:\n",
    "        - action: The chosen action based on the observation.\n",
    "        - state: Any state information (if applicable).\n",
    "        \"\"\"\n",
    "        # observation = observation[0]\n",
    "        # print(observation[2])\n",
    "        print(observation.shape)\n",
    "\n",
    "        observation = observation.reshape([observation.shape[0], observation.shape[2], observation.shape[3]])\n",
    "        # show environment photo\n",
    "        plt.imshow(observation.mean(axis=0))\n",
    "        plt.show()\n",
    "\n",
    "        \n",
    "        agent_x, agent_y = observation[:2]  # Agent's position\n",
    "        # print(agent_x.shape, agent_y.shape)\n",
    "        # print(agent_x, agent_y)\n",
    "        num_ghosts = int(observation.shape[1] - 2) // 2\n",
    "        ghost_positions = observation[3:3 + num_ghosts * 2]\n",
    "        remaining_observations = observation[3 + num_ghosts * 2:]\n",
    "        pellet_positions = remaining_observations[:len(remaining_observations) // 2]\n",
    "        power_pellet_positions = remaining_observations[len(remaining_observations) // 2:]\n",
    "\n",
    "        # Define the possible actions\n",
    "        actions = {\n",
    "            0: 'NOOP',\n",
    "            1: 'UP',\n",
    "            2: 'RIGHT',\n",
    "            3: 'LEFT',\n",
    "            4: 'DOWN',\n",
    "            5: 'UPRIGHT',\n",
    "            6: 'UPLEFT',\n",
    "            7: 'DOWNRIGHT',\n",
    "            8: 'DOWNLEFT'\n",
    "        }\n",
    "        \n",
    "        # Initialize variables for action selection\n",
    "        safe_directions = set(range(9))  # All possible actions are initially safe\n",
    "        \n",
    "        # Avoid ghosts\n",
    "        for i in range(0, len(ghost_positions), 2):\n",
    "            ghost_x, ghost_y = ghost_positions[i], ghost_positions[i + 1]\n",
    "            distance_to_ghost = abs(agent_x - ghost_x) + abs(agent_y - ghost_y)\n",
    "            # Remove unsafe actions\n",
    "            if distance_to_ghost <= 1:  # Adjust threshold as needed\n",
    "                if agent_x == ghost_x:\n",
    "                    if ghost_y > agent_y:\n",
    "                        safe_directions.discard(4)  # DOWN\n",
    "                    else:\n",
    "                        safe_directions.discard(1)  # UP\n",
    "                elif agent_y == ghost_y:\n",
    "                    if ghost_x > agent_x:\n",
    "                        safe_directions.discard(2)  # RIGHT\n",
    "                    else:\n",
    "                        safe_directions.discard(3)  # LEFT\n",
    "\n",
    "        # Move towards the nearest pellet\n",
    "        nearest_pellet_distance = float('inf')\n",
    "        nearest_pellet_direction = None\n",
    "        \n",
    "        for i in range(0, len(pellet_positions), 2):\n",
    "            pellet_x, pellet_y = pellet_positions[i], pellet_positions[i + 1]\n",
    "            distance = abs(agent_x - pellet_x) + abs(agent_y - pellet_y)\n",
    "            \n",
    "            if distance < nearest_pellet_distance:\n",
    "                nearest_pellet_distance = distance\n",
    "                if agent_x < pellet_x:\n",
    "                    if agent_y < pellet_y:\n",
    "                        nearest_pellet_direction = 7  # DOWNRIGHT\n",
    "                    elif agent_y > pellet_y:\n",
    "                        nearest_pellet_direction = 5  # UPRIGHT\n",
    "                    else:\n",
    "                        nearest_pellet_direction = 2  # RIGHT\n",
    "                elif agent_x > pellet_x:\n",
    "                    if agent_y < pellet_y:\n",
    "                        nearest_pellet_direction = 8  # DOWNLEFT\n",
    "                    elif agent_y > pellet_y:\n",
    "                        nearest_pellet_direction = 6  # UPLEFT\n",
    "                    else:\n",
    "                        nearest_pellet_direction = 3  # LEFT\n",
    "                else:\n",
    "                    if agent_y < pellet_y:\n",
    "                        nearest_pellet_direction = 4  # DOWN\n",
    "                    else:\n",
    "                        nearest_pellet_direction = 1  # UP\n",
    "        \n",
    "        # Choose the final action\n",
    "        if nearest_pellet_direction is not None and nearest_pellet_direction in safe_directions:\n",
    "            action = nearest_pellet_direction\n",
    "        else:\n",
    "            # If no clear path to a pellet, choose a random safe direction\n",
    "            action = np.random.choice(list(safe_directions))\n",
    "\n",
    "        # Return the action and state\n",
    "        return np.array([action]), state\n",
    "\n",
    "# Create and wrap the environment\n",
    "env = gym.make('ALE/MsPacman-v5')  # Replace with your specific Pac-Man environment\n",
    "env_name = EnvironmentName(\"ALE/MsPacman-v5\")\n",
    "env_kwargs = {}\n",
    "normalize = False\n",
    "seed = 0\n",
    "frame_stack = 1\n",
    "vec_env_type = \"dummy\"\n",
    "vec_env_class = {\"dummy\": DummyVecEnv, \"subproc\": SubprocVecEnv}[vec_env_type]\n",
    "\n",
    "spec = gym.spec(env_name.gym_id)\n",
    "\n",
    "def make_env(**kwargs) -> gym.Env:\n",
    "    return spec.make(**kwargs)\n",
    "\n",
    "# Make the environment\n",
    "env = make_atari_env(\n",
    "    make_env,\n",
    "    n_envs=8,\n",
    "    seed=seed,\n",
    "    vec_env_cls=vec_env_class,\n",
    "    vec_env_kwargs=env_kwargs,\n",
    ")\n",
    "if frame_stack:\n",
    "    env = VecFrameStack(env, n_stack=frame_stack)\n",
    "\n",
    "if not is_vecenv_wrapped(env, VecTransposeImage):\n",
    "    wrap_with_vectranspose = False\n",
    "    if isinstance(env.observation_space, spaces.Dict):\n",
    "        # If even one of the keys is an image-space in need of transpose, apply transpose\n",
    "        # If the image spaces are not consistent (for instance, one is channel first,\n",
    "        # the other channel last); VecTransposeImage will throw an error\n",
    "        for space in env.observation_space.spaces.values():\n",
    "            wrap_with_vectranspose = wrap_with_vectranspose or (\n",
    "                is_image_space(space) and not is_image_space_channels_first(space)  # type: ignore[arg-type]\n",
    "            )\n",
    "    else:\n",
    "        wrap_with_vectranspose = is_image_space(env.observation_space) and not is_image_space_channels_first(\n",
    "            env.observation_space  # type: ignore[arg-type]\n",
    "        )\n",
    "\n",
    "    if wrap_with_vectranspose:\n",
    "        print(\"Wrapping the env in a VecTransposeImage.\")\n",
    "        env = VecTransposeImage(env)\n",
    "\n",
    "# Create an instance of the A2C model using your custom policy\n",
    "model = A2C(ScriptedPacManPolicy, env, verbose=1)\n",
    "\n",
    "# Train the agent\n",
    "model.learn(total_timesteps=10,\n",
    "            log_interval=10,\n",
    "            progress_bar=True,\n",
    "            callback=EvalCallback(\n",
    "                env, \n",
    "                n_eval_episodes=10, \n",
    "                best_model_save_path=\"a2c-pacman\"))\n",
    "\n",
    "# test the agent for mean reward\n",
    "mean_reward, std_reward = evaluate_policy(model, env, n_eval_episodes=1)\n",
    "\n",
    "# # Save the model\n",
    "# model.save(\"a2c-pacman\")\n",
    "\n",
    "# # Load the model with the custom policy\n",
    "# loaded_model = A2C.load(\"a2c-pacman\", policy=ScriptedPacManPolicy)"
   ]
  },
  {
   "cell_type": "code",
   "execution_count": 41,
   "metadata": {},
   "outputs": [
    {
     "data": {
      "text/plain": [
       "Box(0, 255, (210, 160, 3), uint8)"
      ]
     },
     "execution_count": 41,
     "metadata": {},
     "output_type": "execute_result"
    }
   ],
   "source": [
    "# get obs space\n",
    "obs_space = env.observation_space\n",
    "obs_space"
   ]
  },
  {
   "cell_type": "code",
   "execution_count": null,
   "metadata": {},
   "outputs": [],
   "source": [
    "# see env properties\n",
    "print(env.observation_space)\n",
    "print(env.action_space)\n",
    "print(env.reward_range)\n",
    "print(env.metadata)\n",
    "# episodes length\n",
    "print(env.spec.max_episode_steps)"
   ]
  },
  {
   "cell_type": "code",
   "execution_count": null,
   "metadata": {},
   "outputs": [],
   "source": [
    "print(env.spec)"
   ]
  },
  {
   "cell_type": "code",
   "execution_count": null,
   "metadata": {},
   "outputs": [],
   "source": [
    "from stable_baselines3.common.vec_env import (\n",
    "    DummyVecEnv,\n",
    "    SubprocVecEnv,\n",
    "    VecEnv,\n",
    "    VecFrameStack,\n",
    "    VecNormalize,\n",
    "    VecTransposeImage,\n",
    "    is_vecenv_wrapped,\n",
    ")\n",
    "\n",
    "from huggingface_sb3 import EnvironmentName"
   ]
  },
  {
   "cell_type": "code",
   "execution_count": null,
   "metadata": {},
   "outputs": [],
   "source": [
    "env_name = EnvironmentName(\"ALE/MsPacman-v5\")"
   ]
  },
  {
   "cell_type": "code",
   "execution_count": null,
   "metadata": {},
   "outputs": [],
   "source": [
    "spec = gym.spec(env_name.gym_id)\n",
    "spec"
   ]
  },
  {
   "cell_type": "code",
   "execution_count": null,
   "metadata": {},
   "outputs": [],
   "source": [
    "name = \"ALE/MsPacman-v5\"\n",
    "env = gym.make(name)\n",
    "env.spec"
   ]
  },
  {
   "cell_type": "code",
   "execution_count": null,
   "metadata": {},
   "outputs": [],
   "source": [
    "from collections import OrderedDict\n",
    "from stable_baselines3.common.env_util import make_atari_env, make_vec_env\n",
    "from stable_baselines3.common.preprocessing import is_image_space, is_image_space_channels_first\n",
    "from gymnasium import spaces\n",
    "\n",
    "env_name = EnvironmentName(\"ALE/MsPacman-v5\")\n",
    "# custom_hyperparams = OrderedDict([('batch_size', 256),\n",
    "#              ('clip_range', 'lin_0.1'),\n",
    "#              ('ent_coef', 0.01),\n",
    "#              ('env_wrapper',\n",
    "#               ['stable_baselines3.common.atari_wrappers.AtariWrapper']),\n",
    "#              ('frame_stack', 4),\n",
    "#              ('learning_rate', 'lin_2.5e-4'),\n",
    "#              ('n_envs', 8),\n",
    "#              ('n_epochs', 4),\n",
    "#              ('n_steps', 128),\n",
    "#              ('n_timesteps', 500000.0),\n",
    "#              ('policy', 'CnnPolicy'),\n",
    "#              ('vf_coef', 0.5),\n",
    "#              ('normalize', False)])\n",
    "env_kwargs = {}\n",
    "n_timesteps = 10\n",
    "normalise = False\n",
    "seed = 42\n",
    "frame_stack = 4\n",
    "vec_env_type = \"dummy\"\n",
    "vec_env_class = {\"dummy\": DummyVecEnv, \"subproc\": SubprocVecEnv}[vec_env_type]\n",
    "\n",
    "# Get environment spec\n",
    "spec = gym.spec(env_name.gym_id)\n",
    "\n",
    "def make_env(**kwargs) -> gym.Env:\n",
    "    return spec.make(**kwargs)\n",
    "\n",
    "# Make the environment\n",
    "env = make_atari_env(\n",
    "    make_env,\n",
    "    n_envs=1,\n",
    "    seed=seed,\n",
    "    vec_env_cls=vec_env_class,\n",
    "    vec_env_kwargs=env_kwargs,\n",
    ")\n",
    "\n",
    "if frame_stack:\n",
    "    env = VecFrameStack(env, n_stack=frame_stack)\n",
    "\n",
    "if not is_vecenv_wrapped(env, VecTransposeImage):\n",
    "    wrap_with_vectranspose = False\n",
    "    if isinstance(env.observation_space, spaces.Dict):\n",
    "        # If even one of the keys is an image-space in need of transpose, apply transpose\n",
    "        # If the image spaces are not consistent (for instance, one is channel first,\n",
    "        # the other channel last); VecTransposeImage will throw an error\n",
    "        for space in env.observation_space.spaces.values():\n",
    "            wrap_with_vectranspose = wrap_with_vectranspose or (\n",
    "                is_image_space(space) and not is_image_space_channels_first(space)  # type: ignore[arg-type]\n",
    "            )\n",
    "    else:\n",
    "        wrap_with_vectranspose = is_image_space(env.observation_space) and not is_image_space_channels_first(\n",
    "            env.observation_space  # type: ignore[arg-type]\n",
    "        )\n",
    "\n",
    "    if wrap_with_vectranspose:\n",
    "        print(\"Wrapping the env in a VecTransposeImage.\")\n",
    "        env = VecTransposeImage(env)"
   ]
  },
  {
   "cell_type": "code",
   "execution_count": null,
   "metadata": {},
   "outputs": [],
   "source": [
    "from stable_baselines3 import PPO"
   ]
  },
  {
   "cell_type": "code",
   "execution_count": null,
   "metadata": {},
   "outputs": [],
   "source": [
    "model = PPO(\n",
    "        \"CnnPolicy\",\n",
    "        env,\n",
    "        learning_rate = 2.5e-4,\n",
    "        batch_size = 256,\n",
    "        clip_range = 0.1,\n",
    "        ent_coef = 0.01,\n",
    "        vf_coef = 0.5,\n",
    "        n_epochs = 4,\n",
    "        n_steps = 128,\n",
    "        verbose=1,\n",
    "    )"
   ]
  },
  {
   "cell_type": "code",
   "execution_count": null,
   "metadata": {},
   "outputs": [],
   "source": [
    "model.policy"
   ]
  },
  {
   "cell_type": "code",
   "execution_count": null,
   "metadata": {},
   "outputs": [],
   "source": [
    "import torch\n",
    "model = torch.load(\"/Users/navyajain/Jumpstart-Pacman/ppo/ALE-MsPacman-v5 copy/policy.pth\", map_location=torch.device('cpu'))\n",
    "# remove all keys with guide in them OrderedDict\n",
    "keys = list(model.keys())\n",
    "for key in keys:\n",
    "    if 'guide' in key:\n",
    "        del model[key]\n",
    "\n",
    "# save it back\n",
    "torch.save(model, \"/Users/navyajain/Jumpstart-Pacman/ppo/ALE-MsPacman-v5 copy/policy.pth\")"
   ]
  },
  {
   "cell_type": "code",
   "execution_count": null,
   "metadata": {},
   "outputs": [],
   "source": [
    "import shutil\n",
    "shutil.make_archive(\"v5\", 'zip', \"/Users/navyajain/Jumpstart-Pacman/ppo/ALE-MsPacman-v5_2\")"
   ]
  },
  {
   "cell_type": "code",
   "execution_count": null,
   "metadata": {},
   "outputs": [],
   "source": [
    "model = PPO.load(\"/Users/navyajain/Jumpstart-Pacman/examples/v5\")\n",
    "\n",
    "model_2 = PPO(\n",
    "        \"CnnPolicy\",\n",
    "        env,\n",
    "        learning_rate = 2.5e-4,\n",
    "        batch_size = 256,\n",
    "        clip_range = 0.1,\n",
    "        ent_coef = 0.01,\n",
    "        vf_coef = 0.5,\n",
    "        n_epochs = 4,\n",
    "        n_steps = 128,\n",
    "        verbose=1,\n",
    "    )\n",
    "\n",
    "# share the weights\n",
    "model_2.policy.load_state_dict(model.policy.state_dict())\n",
    "\n",
    "# save the model\n",
    "model_2.save(\"/Users/navyajain/Jumpstart-Pacman/examples/ppo\")"
   ]
  },
  {
   "cell_type": "code",
   "execution_count": null,
   "metadata": {},
   "outputs": [],
   "source": [
    "model_2.policy"
   ]
  },
  {
   "cell_type": "code",
   "execution_count": null,
   "metadata": {},
   "outputs": [],
   "source": [
    "# @title Video recording with stable baselines\n",
    "# code thanks to Antonin RAFFIN\n",
    "# will merge into stable baselines release in future release\n",
    "\n",
    "#from stable_baselines.common.vec_env import VecVideoRecorder #test\n",
    "from stable_baselines3.common.vec_env import VecEnvWrapper, DummyVecEnv, VecNormalize, VecFrameStack, SubprocVecEnv\n",
    "\n",
    "class VecVideoRecorder(VecEnvWrapper):\n",
    "\n",
    "    def __init__(self, venv, video_folder, record_video_trigger,\n",
    "                 video_length=200, name_prefix='rl-video'):\n",
    "        \"\"\"\n",
    "        Wraps a VecEnv or VecEnvWrapper object to record rendered image as mp4 video.\n",
    "        It requires ffmpeg or avconv to be installed on the machine.\n",
    "        :param venv: (VecEnv or VecEnvWrapper)\n",
    "        :param video_folder: (str) Where to save videos\n",
    "        :param record_video_trigger: (func) Function that defines when to start recording.\n",
    "                                            The function takes the current number of step,\n",
    "                                            and returns whether we should start recording or not.\n",
    "        :param video_length: (int)  Length of recorded videos\n",
    "        :param name_prefix: (str) Prefix to the video name\n",
    "        \"\"\"\n",
    "\n",
    "        VecEnvWrapper.__init__(self, venv)\n",
    "\n",
    "        self.env = venv\n",
    "        # Temp variable to retrieve metadata\n",
    "        temp_env = venv\n",
    "\n",
    "        # Unwrap to retrieve metadata dict\n",
    "        # that will be used by gym recorder\n",
    "        while isinstance(temp_env, VecNormalize) or isinstance(temp_env, VecFrameStack):\n",
    "            temp_env = temp_env.venv\n",
    "\n",
    "        if isinstance(temp_env, DummyVecEnv) or isinstance(temp_env, SubprocVecEnv):\n",
    "            metadata = temp_env.get_attr('metadata')[0]\n",
    "        else:\n",
    "            metadata = temp_env.metadata\n",
    "\n",
    "        self.env.metadata = metadata\n",
    "\n",
    "        self.record_video_trigger = record_video_trigger\n",
    "        self.video_recorder = None\n",
    "\n",
    "        self.video_folder = os.path.abspath(video_folder)\n",
    "        os.makedirs(self.video_folder, exist_ok=True)\n",
    "\n",
    "        self.name_prefix = name_prefix\n",
    "        self.step_id = 0\n",
    "        self.video_length = video_length\n",
    "\n",
    "        self.recording = False\n",
    "        self.recorded_frames = 0\n",
    "\n",
    "    def reset(self):\n",
    "        obs = self.venv.reset()\n",
    "        self.start_video_recorder()\n",
    "        return obs\n",
    "\n",
    "    def start_video_recorder(self):\n",
    "        self.close_video_recorder()\n",
    "\n",
    "        video_name = '{}-step-{}-to-step-{}'.format(self.name_prefix, self.step_id,  self.step_id + self.video_length)\n",
    "        base_path = os.path.join(self.video_folder, video_name)\n",
    "        self.video_recorder = video_recorder.VideoRecorder(\n",
    "                env=self.env,\n",
    "                base_path=base_path,\n",
    "                metadata={'step_id': self.step_id}\n",
    "                )\n",
    "\n",
    "        self.video_recorder.capture_frame()\n",
    "        self.recorded_frames = 1\n",
    "        self.recording = True\n",
    "\n",
    "    def _video_enabled(self):\n",
    "        return self.record_video_trigger(self.step_id)\n",
    "\n",
    "    def step_wait(self):\n",
    "        obs, rews, dones, infos = self.venv.step_wait()\n",
    "\n",
    "        self.step_id += 1\n",
    "        if self.recording:\n",
    "            self.video_recorder.capture_frame()\n",
    "            self.recorded_frames += 1\n",
    "            if self.recorded_frames > self.video_length:\n",
    "                logger.info(\"Saving video to \", self.video_recorder.path)\n",
    "                self.close_video_recorder()\n",
    "        elif self._video_enabled():\n",
    "                self.start_video_recorder()\n",
    "\n",
    "        return obs, rews, dones, infos\n",
    "\n",
    "    def close_video_recorder(self):\n",
    "        if self.recording:\n",
    "            self.video_recorder.close()\n",
    "        self.recording = False\n",
    "        self.recorded_frames = 0\n",
    "\n",
    "    def close(self):\n",
    "        VecEnvWrapper.close(self)\n",
    "        self.close_video_recorder()\n",
    "\n",
    "    def __del__(self):\n",
    "        self.close()"
   ]
  },
  {
   "cell_type": "code",
   "execution_count": null,
   "metadata": {},
   "outputs": [],
   "source": [
    "import os\n",
    "from gym.wrappers.monitoring import video_recorder\n",
    "from stable_baselines3.common import logger\n",
    "video_length = 6120 # @param\n",
    "\n",
    "monitor_dir = \"/Users/navyajain/Jumpstart-Pacman/examples/\"\n",
    "\n",
    "obs = env.reset()\n",
    "env_id = 'MsPacmanNoFrameskip-v4'\n",
    "\n",
    "env = VecVideoRecorder(env, \"/Users/navyajain/Jumpstart-Pacman/examples/\",\n",
    "                       record_video_trigger=lambda x: x == 0, video_length=video_length,\n",
    "                       name_prefix=\"trained-agent-{}\".format(env_id))\n",
    "\n",
    "env.reset()\n",
    "timesteps = np.zeros((env.num_envs), dtype=np.int32)\n",
    "for _ in range(video_length + 1):\n",
    "    action, _states = model_2.predict(obs)\n",
    "    obs, _, _, _ = env.step(action)\n",
    "    print(_)\n",
    "env.close()"
   ]
  },
  {
   "cell_type": "code",
   "execution_count": null,
   "metadata": {},
   "outputs": [],
   "source": [
    "type(model)"
   ]
  },
  {
   "cell_type": "code",
   "execution_count": null,
   "metadata": {},
   "outputs": [],
   "source": []
  }
 ],
 "metadata": {
  "kernelspec": {
   "display_name": "base",
   "language": "python",
   "name": "python3"
  },
  "language_info": {
   "codemirror_mode": {
    "name": "ipython",
    "version": 3
   },
   "file_extension": ".py",
   "mimetype": "text/x-python",
   "name": "python",
   "nbconvert_exporter": "python",
   "pygments_lexer": "ipython3",
   "version": "3.10.14"
  }
 },
 "nbformat": 4,
 "nbformat_minor": 2
}
